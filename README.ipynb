{
 "cells": [
  {
   "cell_type": "markdown",
   "metadata": {},
   "source": [
    "# PyRA\n",
    "\n",
    "This library implements [**R**elational **A**lgebra](https://en.wikipedia.org/wiki/Relational_algebra) syntax in **Py**thon.\n",
    "\n",
    "- expression tree visualization\n",
    "- type validation\n",
    "- query execution"
   ]
  },
  {
   "cell_type": "markdown",
   "metadata": {},
   "source": [
    "## Introduction\n",
    "\n",
    "Consider the simple database signature\n",
    "\n",
    "```\n",
    " PERSON / (person_id, name, age)\n",
    "STUDENT / (person_id, guardian_id)\n",
    "```\n",
    "\n",
    "where each student has at least one guardian.\n",
    "\n",
    "Suppose we wanted a query to find the IDs of all students who have one or more guardians not yet 18 years old.\n",
    "We could express this in relational algebra as\n",
    "\n",
    "$$\n",
    "\\mathrm{elim}\\!\\left(\n",
    "    \\pi_{\\#1}\\!\\left(\n",
    "        \\texttt{STUDENT}\n",
    "        \\bowtie_{\\#1 = \\#2\\ell}\n",
    "        \\sigma_{\\#3 < 18}\\!\\left(\\texttt{PERSON}\\right)\n",
    "    \\right)\n",
    "\\right)\n",
    "\\tag{1}\n",
    "$$\n",
    "\n",
    "or\n",
    "\n",
    "$$\n",
    "\\mathrm{elim}\\!\\left(\n",
    "    \\pi_{\\#5}\\!\\left(\n",
    "        \\sigma_{\\#1 > \\#4, \\#2 = \\#6}\\!\\left(\n",
    "            18 \\times \\texttt{PERSON} \\times \\texttt{STUDENT}\n",
    "        \\right)\n",
    "    \\right)\n",
    "\\right)\n",
    "\\tag{2}\n",
    "$$\n",
    "\n",
    "and so on.\n",
    "\n",
    "On the other hand, expression $(3)$ below differs from $(1)$ by a single character, but it is invalid because it joins the wrong attributes.\n",
    "\n",
    "$$\n",
    "\\mathrm{elim}\\!\\left(\n",
    "    \\pi_{\\#1}\\!\\left(\n",
    "        \\texttt{STUDENT}\n",
    "        \\bowtie_{\\textcolor{red}{\\#1 = \\#1\\ell}}\n",
    "        \\sigma_{\\#3 < 18}\\!\\left(\\texttt{PERSON}\\right)\n",
    "    \\right)\n",
    "\\right)\n",
    "\\tag{3}\n",
    "$$\n",
    "\n",
    "Meanwhile, expression $(4)$ below is perfectly legal, but still produces an incorrect result:\n",
    "\n",
    "$$\n",
    "\\begin{aligned}\n",
    "    &\\mathrm{elim}\\!\\left(\n",
    "        \\pi_{\\#1}\\!\\left(\n",
    "            \\texttt{STUDENT}\n",
    "        \\right)\n",
    "    \\right) \\\\\n",
    "    &- \\mathrm{elim}\\!\\left(\n",
    "        \\pi_{\\#1}\\!\\left(\n",
    "            \\texttt{STUDENT}\n",
    "            \\bowtie_{\\#1 = \\#2\\ell}\n",
    "            \\sigma_{\\#3 \\geq 18}\\!\\left(\\texttt{PERSON}\\right)\n",
    "        \\right)\n",
    "    \\right)\n",
    "\\end{aligned}\n",
    "\\tag{4}\n",
    "$$\n",
    "\n",
    "Even though this example is meant to be *simple*, it is already difficult to tell the difference between a correct and incorrect relational algebra expression!\n",
    "\n",
    "This library is born out of a desire to automatically verify arbitrary relational algebra queries."
   ]
  },
  {
   "cell_type": "markdown",
   "metadata": {},
   "source": [
    "## Setup\n",
    "\n",
    "First, we convert the above schema into Python code."
   ]
  },
  {
   "cell_type": "code",
   "execution_count": 1,
   "metadata": {},
   "outputs": [],
   "source": [
    "from relational_algebra import Attribute, ConstantRelation, Relation"
   ]
  },
  {
   "cell_type": "markdown",
   "metadata": {},
   "source": [
    "### Attributes\n",
    "\n",
    "Each attribute is represented by a list of string type names.\n",
    "Type names are *semantic*.\n",
    "For example, even though student IDs and guardian IDs are just person IDs, we specifically name those as types."
   ]
  },
  {
   "cell_type": "code",
   "execution_count": 2,
   "metadata": {},
   "outputs": [],
   "source": [
    "student_id = Attribute(\"sid\")\n",
    "guardian_id = Attribute(\"gid\")\n",
    "person_id = Attribute(\"pid\") | student_id | guardian_id\n",
    "name = Attribute(\"name\")\n",
    "age = Attribute(\"age\")"
   ]
  },
  {
   "cell_type": "markdown",
   "metadata": {},
   "source": [
    "### Relations\n",
    "\n",
    "A relation combines a sequence of attributes with some example elements of that relation.\n",
    "Together, all relations and example elements form a database instance to test our relational algebra expression on.\n",
    "We specifically tailor the instance to test our example query:"
   ]
  },
  {
   "cell_type": "code",
   "execution_count": 3,
   "metadata": {},
   "outputs": [
    {
     "data": {
      "text/plain": [
       "( sid|pid|gid , name , age )\n",
       "  1           , S_1  , 11 \n",
       "  2           , S_2  , 12 \n",
       "  3           , S_3  , 13 \n",
       "  4           , G<18 , 17 \n",
       "  5           , G=18 , 18 "
      ]
     },
     "execution_count": 3,
     "metadata": {},
     "output_type": "execute_result"
    }
   ],
   "source": [
    "PERSON = Relation(\n",
    "    attributes=(person_id, name, age),\n",
    "    elements=[\n",
    "        (1, \"S_1\", 11), # has G<18\n",
    "        (2, \"S_2\", 12), # has both guardians\n",
    "        (3, \"S_3\", 13), # has G=18\n",
    "        (4, \"G<18\", 17),\n",
    "        (5, \"G=18\", 18),\n",
    "    ],\n",
    ")\n",
    "PERSON"
   ]
  },
  {
   "cell_type": "code",
   "execution_count": 4,
   "metadata": {},
   "outputs": [
    {
     "data": {
      "text/plain": [
       "( sid , gid )\n",
       "  1   , 4  \n",
       "  2   , 4  \n",
       "  2   , 5  \n",
       "  3   , 5  "
      ]
     },
     "execution_count": 4,
     "metadata": {},
     "output_type": "execute_result"
    }
   ],
   "source": [
    "STUDENT = Relation(\n",
    "    attributes=(student_id, guardian_id),\n",
    "    elements=[\n",
    "        (1, 4),\n",
    "        (2, 4),\n",
    "        (2, 5),\n",
    "        (3, 5),\n",
    "    ],\n",
    ")\n",
    "STUDENT"
   ]
  },
  {
   "cell_type": "markdown",
   "metadata": {},
   "source": [
    "### Query\n",
    "\n",
    "In our query, we deal with the age constant `18`.\n",
    "To prevent this constant from being compared with non-age numbers, we build a single-attribute (age) relation with `18` as the only value."
   ]
  },
  {
   "cell_type": "code",
   "execution_count": 5,
   "metadata": {},
   "outputs": [],
   "source": [
    "AGE_OF_MAJORITY = ConstantRelation(age, 18)"
   ]
  },
  {
   "cell_type": "markdown",
   "metadata": {},
   "source": [
    "We can also define the expected result of our query:"
   ]
  },
  {
   "cell_type": "code",
   "execution_count": 6,
   "metadata": {},
   "outputs": [
    {
     "data": {
      "text/plain": [
       "( sid )\n",
       "  1  \n",
       "  2  "
      ]
     },
     "execution_count": 6,
     "metadata": {},
     "output_type": "execute_result"
    }
   ],
   "source": [
    "expected = Relation(\n",
    "    attributes=(student_id,),\n",
    "    elements=[\n",
    "        (1,),\n",
    "        (2,),\n",
    "    ],\n",
    ")\n",
    "expected"
   ]
  },
  {
   "cell_type": "markdown",
   "metadata": {},
   "source": [
    "## Relational Algebra in Python\n",
    "\n",
    "The following code demonstrates various relational algebra operations using examples."
   ]
  },
  {
   "cell_type": "code",
   "execution_count": 7,
   "metadata": {},
   "outputs": [],
   "source": [
    "from expression import eq, ge, gt, lt, resolve\n",
    "from relational_algebra import difference, eliminate, join, product, project, select, union"
   ]
  },
  {
   "cell_type": "markdown",
   "metadata": {},
   "source": [
    "### Selection ($\\sigma$)\n",
    "\n",
    "All people under the age of majority:\n",
    "$$\n",
    "    \\sigma_{\\#3 \\leq 18}\\!\\left(\\texttt{PERSON}\\right)\n",
    "$$\n",
    "where $\\#3$ refers to the third attribute of `PERSON`.\n",
    "\n",
    "> Attributes are one-indexed.\n",
    "> This allows us to do something nifty later on..."
   ]
  },
  {
   "cell_type": "code",
   "execution_count": 8,
   "metadata": {},
   "outputs": [
    {
     "name": "stdout",
     "output_type": "stream",
     "text": [
      "┌─\n",
      "│ ( sid|pid|gid , name , age )  = ( sid|pid|gid , name , age )\n",
      "│                                   1           , S_1  , 11 \n",
      "│                                   2           , S_2  , 12 \n",
      "│                                   3           , S_3  , 13 \n",
      "│                                   4           , G<18 , 17 \n",
      "│                                   5           , G=18 , 18 \n",
      "├─\n",
      "σ[#3<18]                        = ( sid|pid|gid , name , age )\n",
      "                                    1           , S_1  , 11 \n",
      "                                    2           , S_2  , 12 \n",
      "                                    3           , S_3  , 13 \n",
      "                                    4           , G<18 , 17 \n"
     ]
    }
   ],
   "source": [
    "_ = resolve(\n",
    "    select[3 |lt| AGE_OF_MAJORITY](PERSON)\n",
    ")"
   ]
  },
  {
   "cell_type": "markdown",
   "metadata": {},
   "source": [
    "> `3 |lt| AGE_OF_MAJORITY` is an example of using the bitwise OR operation in Python to simulate custom infix operators such as `lt` here.\n",
    "> For more details on this method, see [Tomer Filiba's blog](https://tomerfiliba.com/blog/Infix-Operators)."
   ]
  },
  {
   "cell_type": "markdown",
   "metadata": {},
   "source": [
    "### Projection ($\\pi$)\n",
    "\n",
    "All names:\n",
    "$$\n",
    "    \\pi_{\\#2}\\!\\left(\\texttt{PERSON}\\right)\n",
    "$$"
   ]
  },
  {
   "cell_type": "code",
   "execution_count": 9,
   "metadata": {},
   "outputs": [
    {
     "name": "stdout",
     "output_type": "stream",
     "text": [
      "┌─\n",
      "│ ( sid|pid|gid , name , age )  = ( sid|pid|gid , name , age )\n",
      "│                                   1           , S_1  , 11 \n",
      "│                                   2           , S_2  , 12 \n",
      "│                                   3           , S_3  , 13 \n",
      "│                                   4           , G<18 , 17 \n",
      "│                                   5           , G=18 , 18 \n",
      "├─\n",
      "π[#2]                           = ( name )\n",
      "                                    S_1 \n",
      "                                    S_2 \n",
      "                                    S_3 \n",
      "                                    G<18\n",
      "                                    G=18\n"
     ]
    }
   ],
   "source": [
    "_ = resolve(\n",
    "    project[2](PERSON)\n",
    ")"
   ]
  },
  {
   "cell_type": "markdown",
   "metadata": {},
   "source": [
    "### Elimination ($\\mathrm{elim}$)\n",
    "\n",
    "All *distinct* student IDs:\n",
    "$$\n",
    "    \\mathrm{elim}\\!\\left(\\pi_{\\#1}\\!\\left(\\texttt{STUDENT}\\right)\\right)\n",
    "$$"
   ]
  },
  {
   "cell_type": "code",
   "execution_count": 10,
   "metadata": {},
   "outputs": [
    {
     "name": "stdout",
     "output_type": "stream",
     "text": [
      "┌─\n",
      "│ ┌─\n",
      "│ │ ( sid , gid )  = ( sid , gid )\n",
      "│ │                    1   , 4  \n",
      "│ │                    2   , 4  \n",
      "│ │                    2   , 5  \n",
      "│ │                    3   , 5  \n",
      "│ ├─\n",
      "│ π[#1]            = ( sid )\n",
      "│                      1  \n",
      "│                      2  \n",
      "│                      2  \n",
      "│                      3  \n",
      "├─\n",
      "elim               = ( sid )\n",
      "                       1  \n",
      "                       2  \n",
      "                       3  \n"
     ]
    }
   ],
   "source": [
    "_ = resolve(\n",
    "    eliminate(project[1](STUDENT))\n",
    ")"
   ]
  },
  {
   "cell_type": "markdown",
   "metadata": {},
   "source": [
    "### Product ($\\times$)\n",
    "\n",
    "All possible pairs of elements from the relations `STUDENT` and `PERSON`:\n",
    "$$\n",
    "    \\texttt{STUDENT} \\times \\texttt{PERSON}\n",
    "$$"
   ]
  },
  {
   "cell_type": "code",
   "execution_count": 11,
   "metadata": {},
   "outputs": [
    {
     "name": "stdout",
     "output_type": "stream",
     "text": [
      "┌─\n",
      "┤ ( sid , gid )                 = ( sid , gid )\n",
      "┤                                   1   , 4  \n",
      "┤                                   2   , 4  \n",
      "┤                                   2   , 5  \n",
      "┤                                   3   , 5  \n",
      "╞═\n",
      "├ ( sid|pid|gid , name , age )  = ( sid|pid|gid , name , age )\n",
      "├                                   1           , S_1  , 11 \n",
      "├                                   2           , S_2  , 12 \n",
      "├                                   3           , S_3  , 13 \n",
      "├                                   4           , G<18 , 17 \n",
      "├                                   5           , G=18 , 18 \n",
      "├─\n",
      "×                               = ( sid , gid , sid|pid|gid , name , age )\n",
      "                                    1   , 4   , 1           , S_1  , 11 \n",
      "                                    1   , 4   , 2           , S_2  , 12 \n",
      "                                    1   , 4   , 3           , S_3  , 13 \n",
      "                                    1   , 4   , 4           , G<18 , 17 \n",
      "                                    1   , 4   , 5           , G=18 , 18 \n",
      "                                    2   , 4   , 1           , S_1  , 11 \n",
      "                                    2   , 4   , 2           , S_2  , 12 \n",
      "                                    2   , 4   , 3           , S_3  , 13 \n",
      "                                    2   , 4   , 4           , G<18 , 17 \n",
      "                                    2   , 4   , 5           , G=18 , 18 \n",
      "                                    2   , 5   , 1           , S_1  , 11 \n",
      "                                    2   , 5   , 2           , S_2  , 12 \n",
      "                                    2   , 5   , 3           , S_3  , 13 \n",
      "                                    2   , 5   , 4           , G<18 , 17 \n",
      "                                    2   , 5   , 5           , G=18 , 18 \n",
      "                                    3   , 5   , 1           , S_1  , 11 \n",
      "                                    3   , 5   , 2           , S_2  , 12 \n",
      "                                    3   , 5   , 3           , S_3  , 13 \n",
      "                                    3   , 5   , 4           , G<18 , 17 \n",
      "                                    3   , 5   , 5           , G=18 , 18 \n"
     ]
    }
   ],
   "source": [
    "_ = resolve(\n",
    "    STUDENT |product| PERSON\n",
    ")"
   ]
  },
  {
   "cell_type": "markdown",
   "metadata": {},
   "source": [
    "### Join ($\\bowtie$)\n",
    "\n",
    "A join is equivalent to a product ($\\times$) followed by a selection ($\\sigma$).\n",
    "For example, we could filter the product between `STUDENT` and `PERSON` on matching guardian ID:\n",
    "$$\n",
    "    \\sigma_{\\#2 = \\#3}\\!\\left(\\texttt{STUDENT} \\times \\texttt{PERSON}\\right)\n",
    "$$\n",
    "or we could implement this as a join:\n",
    "$$\n",
    "    \\texttt{STUDENT} \\bowtie_{\\#1 = \\#2\\ell} \\texttt{PERSON}\n",
    "$$\n",
    "\n",
    "Where $\\ell$ indicates an attribute index belonging to the relation on the left, while the absence of $\\ell$ indicates an attribute index belonging to the relation on the right.\n",
    "In this case, the index $\\#1 = \\#2\\ell$ refers to\n",
    "- $\\#1$: the first attribute of `PERSON`\n",
    "- $\\#2\\ell$: the second attribute of `STUDENT`\n",
    "\n",
    "To express this in code, we use negative indices (e.g., $\\#2\\ell \\to \\texttt{-2}$) to indicate the left argument."
   ]
  },
  {
   "cell_type": "code",
   "execution_count": 12,
   "metadata": {},
   "outputs": [
    {
     "name": "stdout",
     "output_type": "stream",
     "text": [
      "┌─\n",
      "┤ ( sid , gid )                 = ( sid , gid )\n",
      "┤                                   1   , 4  \n",
      "┤                                   2   , 4  \n",
      "┤                                   2   , 5  \n",
      "┤                                   3   , 5  \n",
      "╞═\n",
      "├ ( sid|pid|gid , name , age )  = ( sid|pid|gid , name , age )\n",
      "├                                   1           , S_1  , 11 \n",
      "├                                   2           , S_2  , 12 \n",
      "├                                   3           , S_3  , 13 \n",
      "├                                   4           , G<18 , 17 \n",
      "├                                   5           , G=18 , 18 \n",
      "├─\n",
      "× σ[#1=#2ℓ]                     = ( sid , gid , gid , name , age )\n",
      "                                    1   , 4   , 4   , G<18 , 17 \n",
      "                                    2   , 4   , 4   , G<18 , 17 \n",
      "                                    2   , 5   , 5   , G=18 , 18 \n",
      "                                    3   , 5   , 5   , G=18 , 18 \n"
     ]
    }
   ],
   "source": [
    "_ = resolve(\n",
    "    STUDENT |join[1 |eq| -2]| PERSON\n",
    ")"
   ]
  },
  {
   "cell_type": "markdown",
   "metadata": {},
   "source": [
    "> Notice that the type of the first column of `PERSON` changed following the join.\n",
    "> This library is smart enough to figure out that an equality-based selection condition (like $\\#1 = \\#2\\ell$) will result in a type intersection between the participating columns."
   ]
  },
  {
   "cell_type": "markdown",
   "metadata": {},
   "source": [
    "### Difference ($-$)\n",
    "\n",
    "All ages other than 18:\n",
    "$$\n",
    "    \\pi_{\\#3}\\!\\left(\\texttt{PERSON}\\right)\n",
    "    - 18\n",
    "$$"
   ]
  },
  {
   "cell_type": "code",
   "execution_count": 13,
   "metadata": {},
   "outputs": [
    {
     "name": "stdout",
     "output_type": "stream",
     "text": [
      "┌─\n",
      "┤ ┌─\n",
      "┤ │ ( sid|pid|gid , name , age )  = ( sid|pid|gid , name , age )\n",
      "┤ │                                   1           , S_1  , 11 \n",
      "┤ │                                   2           , S_2  , 12 \n",
      "┤ │                                   3           , S_3  , 13 \n",
      "┤ │                                   4           , G<18 , 17 \n",
      "┤ │                                   5           , G=18 , 18 \n",
      "┤ ├─\n",
      "┤ π[#3]                           = ( age )\n",
      "┤                                     11 \n",
      "┤                                     12 \n",
      "┤                                     13 \n",
      "┤                                     17 \n",
      "┤                                     18 \n",
      "╞═\n",
      "├ 18                              = 18\n",
      "├─\n",
      "−                                 = ( age )\n",
      "                                      11 \n",
      "                                      12 \n",
      "                                      13 \n",
      "                                      17 \n"
     ]
    }
   ],
   "source": [
    "_ = resolve(\n",
    "    project[3](PERSON) |difference| AGE_OF_MAJORITY\n",
    ")"
   ]
  },
  {
   "cell_type": "markdown",
   "metadata": {},
   "source": [
    "### Union ($\\cup$)\n",
    "\n",
    "All students or guardians:\n",
    "$$\n",
    "    \\pi_{\\#1}\\!\\left(\\texttt{STUDENT}\\right)\n",
    "    \\cup\n",
    "    \\pi_{\\#2}\\!\\left(\\texttt{STUDENT}\\right)\n",
    "$$"
   ]
  },
  {
   "cell_type": "code",
   "execution_count": 14,
   "metadata": {},
   "outputs": [
    {
     "name": "stdout",
     "output_type": "stream",
     "text": [
      "┌─\n",
      "┤ ┌─\n",
      "┤ │ ( sid , gid )  = ( sid , gid )\n",
      "┤ │                    1   , 4  \n",
      "┤ │                    2   , 4  \n",
      "┤ │                    2   , 5  \n",
      "┤ │                    3   , 5  \n",
      "┤ ├─\n",
      "┤ π[#1]            = ( sid )\n",
      "┤                      1  \n",
      "┤                      2  \n",
      "┤                      2  \n",
      "┤                      3  \n",
      "╞═\n",
      "├ ┌─\n",
      "├ │ ( sid , gid )  = ( sid , gid )\n",
      "├ │                    1   , 4  \n",
      "├ │                    2   , 4  \n",
      "├ │                    2   , 5  \n",
      "├ │                    3   , 5  \n",
      "├ ├─\n",
      "├ π[#2]            = ( gid )\n",
      "├                      4  \n",
      "├                      4  \n",
      "├                      5  \n",
      "├                      5  \n",
      "├─\n",
      "∪                  = ( sid|gid )\n",
      "                       1      \n",
      "                       2      \n",
      "                       2      \n",
      "                       3      \n",
      "                       4      \n",
      "                       4      \n",
      "                       5      \n",
      "                       5      \n"
     ]
    }
   ],
   "source": [
    "_ = resolve(\n",
    "    project[1](STUDENT) |union| project[2](STUDENT)\n",
    ")"
   ]
  },
  {
   "cell_type": "markdown",
   "metadata": {},
   "source": [
    "### Note on Order of Operations\n",
    "\n",
    "The custom infix operators used in this library are implemented by overloading the bitwise OR operation `|`, which is evaluated left to right.\n",
    "\n",
    "Because of this, we have limited control over the order of operations.\n",
    "For example, there is no way to give higher precedence to product ($\\times$) than difference ($-$).\n",
    "When in doubt, use parentheses to enforce evaluation order."
   ]
  },
  {
   "cell_type": "markdown",
   "metadata": {},
   "source": [
    "## Query Verification\n",
    "\n",
    "To come full circle, we now implement all 4 example RA expressions.\n",
    "\n",
    "The `resolve` function lets us trace the evaluation tree of the expression on our sample database instance."
   ]
  },
  {
   "cell_type": "markdown",
   "metadata": {},
   "source": [
    "### Expression $(1)$: Correct\n",
    "\n",
    "$$\n",
    "\\mathrm{elim}\\!\\left(\n",
    "    \\pi_{\\#1}\\!\\left(\n",
    "        \\texttt{STUDENT}\n",
    "        \\bowtie_{\\#1 = \\#2\\ell}\n",
    "        \\sigma_{\\#3 < 18}\\!\\left(\\texttt{PERSON}\\right)\n",
    "    \\right)\n",
    "\\right)\n",
    "$$"
   ]
  },
  {
   "cell_type": "code",
   "execution_count": 15,
   "metadata": {},
   "outputs": [
    {
     "name": "stdout",
     "output_type": "stream",
     "text": [
      "┌─\n",
      "│ ┌─\n",
      "│ │ ┌─\n",
      "│ │ ┤ ( sid , gid )                   = ( sid , gid )\n",
      "│ │ ┤                                     1   , 4  \n",
      "│ │ ┤                                     2   , 4  \n",
      "│ │ ┤                                     2   , 5  \n",
      "│ │ ┤                                     3   , 5  \n",
      "│ │ ╞═\n",
      "│ │ ├ ┌─\n",
      "│ │ ├ │ ( sid|pid|gid , name , age )  = ( sid|pid|gid , name , age )\n",
      "│ │ ├ │                                   1           , S_1  , 11 \n",
      "│ │ ├ │                                   2           , S_2  , 12 \n",
      "│ │ ├ │                                   3           , S_3  , 13 \n",
      "│ │ ├ │                                   4           , G<18 , 17 \n",
      "│ │ ├ │                                   5           , G=18 , 18 \n",
      "│ │ ├ ├─\n",
      "│ │ ├ σ[#3<18]                        = ( sid|pid|gid , name , age )\n",
      "│ │ ├                                     1           , S_1  , 11 \n",
      "│ │ ├                                     2           , S_2  , 12 \n",
      "│ │ ├                                     3           , S_3  , 13 \n",
      "│ │ ├                                     4           , G<18 , 17 \n",
      "│ │ ├─\n",
      "│ │ × σ[#1=#2ℓ]                       = ( sid , gid , gid , name , age )\n",
      "│ │                                       1   , 4   , 4   , G<18 , 17 \n",
      "│ │                                       2   , 4   , 4   , G<18 , 17 \n",
      "│ ├─\n",
      "│ π[#1]                               = ( sid )\n",
      "│                                         1  \n",
      "│                                         2  \n",
      "├─\n",
      "elim                                  = ( sid )\n",
      "                                          1  \n",
      "                                          2  \n"
     ]
    }
   ],
   "source": [
    "assert resolve(\n",
    "    eliminate(project[1](STUDENT |join[1 |eq| -2]| select[3 |lt| AGE_OF_MAJORITY](PERSON)))\n",
    ") == expected"
   ]
  },
  {
   "cell_type": "markdown",
   "metadata": {},
   "source": [
    "### Expression $(2)$: Correct\n",
    "\n",
    "$$\n",
    "\\mathrm{elim}\\!\\left(\n",
    "    \\pi_{\\#5}\\!\\left(\n",
    "        \\sigma_{\\#1 > \\#4, \\#2 = \\#6}\\!\\left(\n",
    "            18 \\times \\texttt{PERSON} \\times \\texttt{STUDENT}\n",
    "        \\right)\n",
    "    \\right)\n",
    "\\right)\n",
    "$$"
   ]
  },
  {
   "cell_type": "code",
   "execution_count": 16,
   "metadata": {},
   "outputs": [
    {
     "name": "stdout",
     "output_type": "stream",
     "text": [
      "┌─\n",
      "│ ┌─\n",
      "│ │ ┌─\n",
      "│ │ │ ┌─\n",
      "│ │ │ ┤ ┌─\n",
      "│ │ │ ┤ ┤ 18                            = 18\n",
      "│ │ │ ┤ ╞═\n",
      "│ │ │ ┤ ├ ( sid|pid|gid , name , age )  = ( sid|pid|gid , name , age )\n",
      "│ │ │ ┤ ├                                   1           , S_1  , 11 \n",
      "│ │ │ ┤ ├                                   2           , S_2  , 12 \n",
      "│ │ │ ┤ ├                                   3           , S_3  , 13 \n",
      "│ │ │ ┤ ├                                   4           , G<18 , 17 \n",
      "│ │ │ ┤ ├                                   5           , G=18 , 18 \n",
      "│ │ │ ┤ ├─\n",
      "│ │ │ ┤ ×                               = ( age , sid|pid|gid , name , age )\n",
      "│ │ │ ┤                                     18  , 1           , S_1  , 11 \n",
      "│ │ │ ┤                                     18  , 2           , S_2  , 12 \n",
      "│ │ │ ┤                                     18  , 3           , S_3  , 13 \n",
      "│ │ │ ┤                                     18  , 4           , G<18 , 17 \n",
      "│ │ │ ┤                                     18  , 5           , G=18 , 18 \n",
      "│ │ │ ╞═\n",
      "│ │ │ ├ ( sid , gid )                   = ( sid , gid )\n",
      "│ │ │ ├                                     1   , 4  \n",
      "│ │ │ ├                                     2   , 4  \n",
      "│ │ │ ├                                     2   , 5  \n",
      "│ │ │ ├                                     3   , 5  \n",
      "│ │ │ ├─\n",
      "│ │ │ ×                                 = ( age , sid|pid|gid , name , age , sid , gid )\n",
      "│ │ │                                       18  , 1           , S_1  , 11  , 1   , 4  \n",
      "│ │ │                                       18  , 1           , S_1  , 11  , 2   , 4  \n",
      "│ │ │                                       18  , 1           , S_1  , 11  , 2   , 5  \n",
      "│ │ │                                       18  , 1           , S_1  , 11  , 3   , 5  \n",
      "│ │ │                                       18  , 2           , S_2  , 12  , 1   , 4  \n",
      "│ │ │                                       18  , 2           , S_2  , 12  , 2   , 4  \n",
      "│ │ │                                       18  , 2           , S_2  , 12  , 2   , 5  \n",
      "│ │ │                                       18  , 2           , S_2  , 12  , 3   , 5  \n",
      "│ │ │                                       18  , 3           , S_3  , 13  , 1   , 4  \n",
      "│ │ │                                       18  , 3           , S_3  , 13  , 2   , 4  \n",
      "│ │ │                                       18  , 3           , S_3  , 13  , 2   , 5  \n",
      "│ │ │                                       18  , 3           , S_3  , 13  , 3   , 5  \n",
      "│ │ │                                       18  , 4           , G<18 , 17  , 1   , 4  \n",
      "│ │ │                                       18  , 4           , G<18 , 17  , 2   , 4  \n",
      "│ │ │                                       18  , 4           , G<18 , 17  , 2   , 5  \n",
      "│ │ │                                       18  , 4           , G<18 , 17  , 3   , 5  \n",
      "│ │ │                                       18  , 5           , G=18 , 18  , 1   , 4  \n",
      "│ │ │                                       18  , 5           , G=18 , 18  , 2   , 4  \n",
      "│ │ │                                       18  , 5           , G=18 , 18  , 2   , 5  \n",
      "│ │ │                                       18  , 5           , G=18 , 18  , 3   , 5  \n",
      "│ │ ├─\n",
      "│ │ σ[#1>#4,#2=#6]                      = ( age , gid , name , age , sid , gid )\n",
      "│ │                                         18  , 4   , G<18 , 17  , 1   , 4  \n",
      "│ │                                         18  , 4   , G<18 , 17  , 2   , 4  \n",
      "│ ├─\n",
      "│ π[#5]                                 = ( sid )\n",
      "│                                           1  \n",
      "│                                           2  \n",
      "├─\n",
      "elim                                    = ( sid )\n",
      "                                            1  \n",
      "                                            2  \n"
     ]
    }
   ],
   "source": [
    "assert resolve(\n",
    "    eliminate(project[5](select[1 |gt| 4, 2 |eq| 6](AGE_OF_MAJORITY |product| PERSON |product| STUDENT)))\n",
    ") == expected"
   ]
  },
  {
   "cell_type": "markdown",
   "metadata": {},
   "source": [
    "### Expression $(3)$: Incorrect\n",
    "\n",
    "$$\n",
    "\\mathrm{elim}\\!\\left(\n",
    "    \\pi_{\\#1}\\!\\left(\n",
    "        \\texttt{STUDENT}\n",
    "        \\bowtie_{\\textcolor{red}{\\#1 = \\#1\\ell}}\n",
    "        \\sigma_{\\#3 < 18}\\!\\left(\\texttt{PERSON}\\right)\n",
    "    \\right)\n",
    "\\right)\n",
    "$$\n"
   ]
  },
  {
   "cell_type": "code",
   "execution_count": 17,
   "metadata": {},
   "outputs": [
    {
     "name": "stdout",
     "output_type": "stream",
     "text": [
      "┌─\n",
      "│ ┌─\n",
      "│ │ ┌─\n",
      "│ │ ┤ ( sid , gid )                   = ( sid , gid )\n",
      "│ │ ┤                                     1   , 4  \n",
      "│ │ ┤                                     2   , 4  \n",
      "│ │ ┤                                     2   , 5  \n",
      "│ │ ┤                                     3   , 5  \n",
      "│ │ ╞═\n",
      "│ │ ├ ┌─\n",
      "│ │ ├ │ ( sid|pid|gid , name , age )  = ( sid|pid|gid , name , age )\n",
      "│ │ ├ │                                   1           , S_1  , 11 \n",
      "│ │ ├ │                                   2           , S_2  , 12 \n",
      "│ │ ├ │                                   3           , S_3  , 13 \n",
      "│ │ ├ │                                   4           , G<18 , 17 \n",
      "│ │ ├ │                                   5           , G=18 , 18 \n",
      "│ │ ├ ├─\n",
      "│ │ ├ σ[#3<18]                        = ( sid|pid|gid , name , age )\n",
      "│ │ ├                                     1           , S_1  , 11 \n",
      "│ │ ├                                     2           , S_2  , 12 \n",
      "│ │ ├                                     3           , S_3  , 13 \n",
      "│ │ ├                                     4           , G<18 , 17 \n",
      "│ │ ├─\n",
      "│ │ × σ[#1=#1ℓ]                       = ( sid , gid , sid , name , age )\n",
      "│ │                                       1   , 4   , 1   , S_1  , 11 \n",
      "│ │                                       2   , 4   , 2   , S_2  , 12 \n",
      "│ │                                       2   , 5   , 2   , S_2  , 12 \n",
      "│ │                                       3   , 5   , 3   , S_3  , 13 \n",
      "│ ├─\n",
      "│ π[#1]                               = ( sid )\n",
      "│                                         1  \n",
      "│                                         2  \n",
      "│                                         2  \n",
      "│                                         3  \n",
      "├─\n",
      "elim                                  = ( sid )\n",
      "                                          1  \n",
      "                                          2  \n",
      "                                          3  \n"
     ]
    }
   ],
   "source": [
    "assert resolve(\n",
    "    eliminate(project[1](STUDENT |join[1 |eq| -1]| select[3 |lt| AGE_OF_MAJORITY](PERSON)))\n",
    ") != expected"
   ]
  },
  {
   "cell_type": "markdown",
   "metadata": {},
   "source": [
    "### Expression $(4)$: Incorrect\n",
    "\n",
    "$$\n",
    "\\begin{aligned}\n",
    "    &\\mathrm{elim}\\!\\left(\n",
    "        \\pi_{\\#1}\\!\\left(\n",
    "            \\texttt{STUDENT}\n",
    "        \\right)\n",
    "    \\right) \\\\\n",
    "    &- \\mathrm{elim}\\!\\left(\n",
    "        \\pi_{\\#1}\\!\\left(\n",
    "            \\texttt{STUDENT}\n",
    "            \\bowtie_{\\#1 = \\#2\\ell}\n",
    "            \\sigma_{\\#3 \\geq 18}\\!\\left(\\texttt{PERSON}\\right)\n",
    "        \\right)\n",
    "    \\right)\n",
    "\\end{aligned}\n",
    "$$"
   ]
  },
  {
   "cell_type": "code",
   "execution_count": 18,
   "metadata": {},
   "outputs": [
    {
     "name": "stdout",
     "output_type": "stream",
     "text": [
      "┌─\n",
      "┤ ┌─\n",
      "┤ │ ┌─\n",
      "┤ │ │ ( sid , gid )                     = ( sid , gid )\n",
      "┤ │ │                                       1   , 4  \n",
      "┤ │ │                                       2   , 4  \n",
      "┤ │ │                                       2   , 5  \n",
      "┤ │ │                                       3   , 5  \n",
      "┤ │ ├─\n",
      "┤ │ π[#1]                               = ( sid )\n",
      "┤ │                                         1  \n",
      "┤ │                                         2  \n",
      "┤ │                                         2  \n",
      "┤ │                                         3  \n",
      "┤ ├─\n",
      "┤ elim                                  = ( sid )\n",
      "┤                                           1  \n",
      "┤                                           2  \n",
      "┤                                           3  \n",
      "╞═\n",
      "├ ┌─\n",
      "├ │ ┌─\n",
      "├ │ │ ┌─\n",
      "├ │ │ ┤ ( sid , gid )                   = ( sid , gid )\n",
      "├ │ │ ┤                                     1   , 4  \n",
      "├ │ │ ┤                                     2   , 4  \n",
      "├ │ │ ┤                                     2   , 5  \n",
      "├ │ │ ┤                                     3   , 5  \n",
      "├ │ │ ╞═\n",
      "├ │ │ ├ ┌─\n",
      "├ │ │ ├ │ ( sid|pid|gid , name , age )  = ( sid|pid|gid , name , age )\n",
      "├ │ │ ├ │                                   1           , S_1  , 11 \n",
      "├ │ │ ├ │                                   2           , S_2  , 12 \n",
      "├ │ │ ├ │                                   3           , S_3  , 13 \n",
      "├ │ │ ├ │                                   4           , G<18 , 17 \n",
      "├ │ │ ├ │                                   5           , G=18 , 18 \n",
      "├ │ │ ├ ├─\n",
      "├ │ │ ├ σ[#3≥18]                        = ( sid|pid|gid , name , age )\n",
      "├ │ │ ├                                     5           , G=18 , 18 \n",
      "├ │ │ ├─\n",
      "├ │ │ × σ[#1=#2ℓ]                       = ( sid , gid , gid , name , age )\n",
      "├ │ │                                       2   , 5   , 5   , G=18 , 18 \n",
      "├ │ │                                       3   , 5   , 5   , G=18 , 18 \n",
      "├ │ ├─\n",
      "├ │ π[#1]                               = ( sid )\n",
      "├ │                                         2  \n",
      "├ │                                         3  \n",
      "├ ├─\n",
      "├ elim                                  = ( sid )\n",
      "├                                           2  \n",
      "├                                           3  \n",
      "├─\n",
      "−                                       = ( sid )\n",
      "                                            1  \n"
     ]
    }
   ],
   "source": [
    "assert resolve(\n",
    "    eliminate(project[1](STUDENT))\n",
    "    |difference| eliminate(project[1](STUDENT |join[1 |eq| -2]| select[3 |ge| AGE_OF_MAJORITY](PERSON)))\n",
    ") != expected"
   ]
  }
 ],
 "metadata": {
  "kernelspec": {
   "display_name": "Python 3",
   "language": "python",
   "name": "python3"
  },
  "language_info": {
   "codemirror_mode": {
    "name": "ipython",
    "version": 3
   },
   "file_extension": ".py",
   "mimetype": "text/x-python",
   "name": "python",
   "nbconvert_exporter": "python",
   "pygments_lexer": "ipython3",
   "version": "3.11.5"
  }
 },
 "nbformat": 4,
 "nbformat_minor": 2
}
